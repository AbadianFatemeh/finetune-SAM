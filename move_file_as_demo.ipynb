{
 "cells": [
  {
   "cell_type": "markdown",
   "id": "fab954ee-f8d6-4569-8d46-de53285919cb",
   "metadata": {},
   "source": [
    "## move target images and masks into target folder"
   ]
  },
  {
   "cell_type": "code",
   "execution_count": 3,
   "id": "83b683e7-4f89-4101-9053-95f2de7056eb",
   "metadata": {},
   "outputs": [],
   "source": [
    "import os\n",
    "import shutil\n",
    "\n",
    "# Define the source and destination paths\n",
    "source_dir = '/data/humanBodyProject/publicdata/'\n",
    "destination_dir = 'datasets'"
   ]
  },
  {
   "cell_type": "code",
   "execution_count": 4,
   "id": "5376dde9-f063-4b67-97e5-9a70aede1c98",
   "metadata": {},
   "outputs": [],
   "source": [
    "dataset_name = 'MRI-Prostate'\n",
    "train_img_list = '/data/humanBodyProject/publicdata/' + dataset_name + '/train_5shot.csv'\n",
    "val_img_list = '/data/humanBodyProject/publicdata/' + dataset_name + '/val_5shot.csv'"
   ]
  },
  {
   "cell_type": "code",
   "execution_count": 6,
   "id": "6063f9b8-377b-4e10-9798-38268a4d77f4",
   "metadata": {},
   "outputs": [
    {
     "name": "stdout",
     "output_type": "stream",
     "text": [
      "Copied MRI-Prostate/masks/RUNMC23_14.png to datasets\n",
      "Copied MRI-Prostate/masks/RUNMC03_16.png to datasets\n",
      "Copied MRI-Prostate/masks/BMC26_16.png to datasets\n",
      "Copied MRI-Prostate/masks/I2CVB01_27.png to datasets\n",
      "Copied MRI-Prostate/masks/UCL34_9.png to datasets\n"
     ]
    }
   ],
   "source": [
    "# Create a list of filenames to copy (you can specify your filenames here)\n",
    "namefiles = open(val_img_list,'r')\n",
    "data_list = namefiles.read().split('\\n')[:-1]\n",
    "\n",
    "# Ensure the destination directory exists, if not, create it\n",
    "if not os.path.exists(destination_dir):\n",
    "    os.makedirs(destination_dir)\n",
    "\n",
    "# Copy each file from the source directory to the destination directory\n",
    "for idx,data in enumerate(data_list):\n",
    "    file_name = data.split(',')[1]\n",
    "    if file_name.startswith('/'):\n",
    "        file_name = file_name[1:]\n",
    "    source_path = os.path.join(source_dir, file_name)\n",
    "    destination_path = os.path.join(destination_dir, file_name)\n",
    "\n",
    "    # Ensure the destination directory exists, if not, create it\n",
    "    # Now to get the parent of this directory (the folder path before the last filename)\n",
    "    parent_directory = os.path.dirname(destination_path)\n",
    "    if not os.path.exists(parent_directory):\n",
    "        os.makedirs(parent_directory)\n",
    "\n",
    "    # Check if the file exists before copying\n",
    "    if os.path.exists(source_path):\n",
    "        shutil.copy(source_path, destination_path)\n",
    "        print(f\"Copied {file_name} to {destination_dir}\")\n",
    "    else:\n",
    "        print(f\"Error: {file_name} does not exist in the source directory.\")\n"
   ]
  },
  {
   "cell_type": "code",
   "execution_count": null,
   "id": "9973a793-7592-44d6-8281-c25389fe5663",
   "metadata": {},
   "outputs": [],
   "source": []
  }
 ],
 "metadata": {
  "kernelspec": {
   "display_name": "Python 3 (ipykernel)",
   "language": "python",
   "name": "python3"
  },
  "language_info": {
   "codemirror_mode": {
    "name": "ipython",
    "version": 3
   },
   "file_extension": ".py",
   "mimetype": "text/x-python",
   "name": "python",
   "nbconvert_exporter": "python",
   "pygments_lexer": "ipython3",
   "version": "3.11.4"
  }
 },
 "nbformat": 4,
 "nbformat_minor": 5
}
